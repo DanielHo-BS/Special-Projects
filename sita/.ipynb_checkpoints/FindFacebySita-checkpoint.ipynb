{
 "cells": [
  {
   "cell_type": "code",
   "execution_count": 1,
   "metadata": {},
   "outputs": [],
   "source": [
    "import math\n",
    "import os\n",
    "import csv\n",
    "import pandas as pd\n",
    "import matplotlib.pyplot as plt\n",
    "import numpy as np\n",
    "import joblib\n",
    "import time\n",
    "import random\n",
    "import openpyxl\n",
    "from sklearn.preprocessing import StandardScaler\n",
    "from sklearn.model_selection import train_test_split\n",
    "from sklearn import svm\n",
    "from sklearn import metrics\n",
    "from sklearn.utils import shuffle\n",
    "from openpyxl import load_workbook"
   ]
  },
  {
   "cell_type": "code",
   "execution_count": 3,
   "metadata": {},
   "outputs": [],
   "source": [
    "df = pd.read_csv('KT_Sita.csv')\n",
    "df1 = pd.read_csv('B_Sita.csv')\n",
    "df2 = pd.read_csv('SW_line_Sita.csv')\n",
    "df3 = pd.read_csv('SW_smooth_Sita.csv')\n",
    "df4 = pd.read_csv('MS_Sita.csv')\n",
    "df5=pd.read_csv('TW_sita.csv')"
   ]
  },
  {
   "cell_type": "code",
   "execution_count": 4,
   "metadata": {},
   "outputs": [
    {
     "data": {
      "text/html": [
       "<div>\n",
       "<style scoped>\n",
       "    .dataframe tbody tr th:only-of-type {\n",
       "        vertical-align: middle;\n",
       "    }\n",
       "\n",
       "    .dataframe tbody tr th {\n",
       "        vertical-align: top;\n",
       "    }\n",
       "\n",
       "    .dataframe thead th {\n",
       "        text-align: right;\n",
       "    }\n",
       "</style>\n",
       "<table border=\"1\" class=\"dataframe\">\n",
       "  <thead>\n",
       "    <tr style=\"text-align: right;\">\n",
       "      <th></th>\n",
       "      <th>frame</th>\n",
       "      <th>sita1</th>\n",
       "      <th>sita2</th>\n",
       "      <th>sita3</th>\n",
       "      <th>sita4</th>\n",
       "      <th>sita5</th>\n",
       "      <th>sita6</th>\n",
       "      <th>sita7</th>\n",
       "      <th>sita8</th>\n",
       "      <th>sita9</th>\n",
       "      <th>...</th>\n",
       "      <th>sita22</th>\n",
       "      <th>sita23</th>\n",
       "      <th>sita24</th>\n",
       "      <th>sita25</th>\n",
       "      <th>sita26</th>\n",
       "      <th>sita27</th>\n",
       "      <th>sita28</th>\n",
       "      <th>sita29</th>\n",
       "      <th>sita30</th>\n",
       "      <th>face</th>\n",
       "    </tr>\n",
       "  </thead>\n",
       "  <tbody>\n",
       "    <tr>\n",
       "      <th>0</th>\n",
       "      <td>32962.0</td>\n",
       "      <td>26.606499</td>\n",
       "      <td>59.180330</td>\n",
       "      <td>94.213172</td>\n",
       "      <td>22.823840</td>\n",
       "      <td>108.602668</td>\n",
       "      <td>48.573492</td>\n",
       "      <td>67.587146</td>\n",
       "      <td>72.373759</td>\n",
       "      <td>40.039095</td>\n",
       "      <td>...</td>\n",
       "      <td>0.000000</td>\n",
       "      <td>0.000000</td>\n",
       "      <td>0.000000</td>\n",
       "      <td>68.037661</td>\n",
       "      <td>23.036698</td>\n",
       "      <td>88.925641</td>\n",
       "      <td>37.060276</td>\n",
       "      <td>10.855320</td>\n",
       "      <td>132.084404</td>\n",
       "      <td>1</td>\n",
       "    </tr>\n",
       "    <tr>\n",
       "      <th>1</th>\n",
       "      <td>15171.0</td>\n",
       "      <td>30.631028</td>\n",
       "      <td>69.195667</td>\n",
       "      <td>80.173305</td>\n",
       "      <td>19.635485</td>\n",
       "      <td>114.369329</td>\n",
       "      <td>45.995186</td>\n",
       "      <td>65.725180</td>\n",
       "      <td>70.994254</td>\n",
       "      <td>43.280566</td>\n",
       "      <td>...</td>\n",
       "      <td>0.000000</td>\n",
       "      <td>0.000000</td>\n",
       "      <td>0.000000</td>\n",
       "      <td>69.569244</td>\n",
       "      <td>21.011359</td>\n",
       "      <td>89.419398</td>\n",
       "      <td>28.410188</td>\n",
       "      <td>10.662636</td>\n",
       "      <td>140.927175</td>\n",
       "      <td>1</td>\n",
       "    </tr>\n",
       "    <tr>\n",
       "      <th>2</th>\n",
       "      <td>22044.0</td>\n",
       "      <td>27.843696</td>\n",
       "      <td>46.616477</td>\n",
       "      <td>105.539827</td>\n",
       "      <td>29.181720</td>\n",
       "      <td>102.796662</td>\n",
       "      <td>48.021618</td>\n",
       "      <td>68.507134</td>\n",
       "      <td>81.446697</td>\n",
       "      <td>30.046169</td>\n",
       "      <td>...</td>\n",
       "      <td>0.000000</td>\n",
       "      <td>0.000000</td>\n",
       "      <td>0.000000</td>\n",
       "      <td>71.592001</td>\n",
       "      <td>30.278256</td>\n",
       "      <td>78.129743</td>\n",
       "      <td>41.470073</td>\n",
       "      <td>9.948059</td>\n",
       "      <td>128.581868</td>\n",
       "      <td>1</td>\n",
       "    </tr>\n",
       "    <tr>\n",
       "      <th>3</th>\n",
       "      <td>6320.0</td>\n",
       "      <td>26.593739</td>\n",
       "      <td>53.031395</td>\n",
       "      <td>100.374866</td>\n",
       "      <td>31.157865</td>\n",
       "      <td>90.212248</td>\n",
       "      <td>58.629886</td>\n",
       "      <td>72.118553</td>\n",
       "      <td>75.641867</td>\n",
       "      <td>32.239580</td>\n",
       "      <td>...</td>\n",
       "      <td>8.870001</td>\n",
       "      <td>3.002261</td>\n",
       "      <td>168.127737</td>\n",
       "      <td>61.358455</td>\n",
       "      <td>27.531423</td>\n",
       "      <td>91.110121</td>\n",
       "      <td>41.249333</td>\n",
       "      <td>9.683077</td>\n",
       "      <td>129.067591</td>\n",
       "      <td>1</td>\n",
       "    </tr>\n",
       "    <tr>\n",
       "      <th>4</th>\n",
       "      <td>29859.0</td>\n",
       "      <td>29.136533</td>\n",
       "      <td>54.712220</td>\n",
       "      <td>96.151247</td>\n",
       "      <td>29.639262</td>\n",
       "      <td>94.143109</td>\n",
       "      <td>56.217628</td>\n",
       "      <td>78.233302</td>\n",
       "      <td>71.098873</td>\n",
       "      <td>30.667825</td>\n",
       "      <td>...</td>\n",
       "      <td>11.039635</td>\n",
       "      <td>3.403152</td>\n",
       "      <td>165.557213</td>\n",
       "      <td>66.922484</td>\n",
       "      <td>26.156310</td>\n",
       "      <td>86.921206</td>\n",
       "      <td>43.721216</td>\n",
       "      <td>10.156811</td>\n",
       "      <td>126.121973</td>\n",
       "      <td>1</td>\n",
       "    </tr>\n",
       "    <tr>\n",
       "      <th>...</th>\n",
       "      <td>...</td>\n",
       "      <td>...</td>\n",
       "      <td>...</td>\n",
       "      <td>...</td>\n",
       "      <td>...</td>\n",
       "      <td>...</td>\n",
       "      <td>...</td>\n",
       "      <td>...</td>\n",
       "      <td>...</td>\n",
       "      <td>...</td>\n",
       "      <td>...</td>\n",
       "      <td>...</td>\n",
       "      <td>...</td>\n",
       "      <td>...</td>\n",
       "      <td>...</td>\n",
       "      <td>...</td>\n",
       "      <td>...</td>\n",
       "      <td>...</td>\n",
       "      <td>...</td>\n",
       "      <td>...</td>\n",
       "      <td>...</td>\n",
       "    </tr>\n",
       "    <tr>\n",
       "      <th>72406</th>\n",
       "      <td>33193.0</td>\n",
       "      <td>23.305021</td>\n",
       "      <td>56.098619</td>\n",
       "      <td>100.596360</td>\n",
       "      <td>25.001373</td>\n",
       "      <td>95.376570</td>\n",
       "      <td>59.622057</td>\n",
       "      <td>57.236042</td>\n",
       "      <td>81.220364</td>\n",
       "      <td>41.543594</td>\n",
       "      <td>...</td>\n",
       "      <td>0.000000</td>\n",
       "      <td>0.000000</td>\n",
       "      <td>0.000000</td>\n",
       "      <td>54.501488</td>\n",
       "      <td>23.964752</td>\n",
       "      <td>101.533760</td>\n",
       "      <td>32.487293</td>\n",
       "      <td>9.816556</td>\n",
       "      <td>137.696150</td>\n",
       "      <td>1</td>\n",
       "    </tr>\n",
       "    <tr>\n",
       "      <th>72407</th>\n",
       "      <td>31333.0</td>\n",
       "      <td>23.071002</td>\n",
       "      <td>57.895032</td>\n",
       "      <td>99.033966</td>\n",
       "      <td>21.575089</td>\n",
       "      <td>110.607210</td>\n",
       "      <td>47.817700</td>\n",
       "      <td>59.988997</td>\n",
       "      <td>74.184384</td>\n",
       "      <td>45.826619</td>\n",
       "      <td>...</td>\n",
       "      <td>5.329891</td>\n",
       "      <td>2.188106</td>\n",
       "      <td>172.482003</td>\n",
       "      <td>63.527905</td>\n",
       "      <td>23.000600</td>\n",
       "      <td>93.471495</td>\n",
       "      <td>36.594473</td>\n",
       "      <td>11.298952</td>\n",
       "      <td>132.106575</td>\n",
       "      <td>1</td>\n",
       "    </tr>\n",
       "    <tr>\n",
       "      <th>72408</th>\n",
       "      <td>23424.0</td>\n",
       "      <td>30.784511</td>\n",
       "      <td>55.948694</td>\n",
       "      <td>93.266796</td>\n",
       "      <td>24.437571</td>\n",
       "      <td>109.217070</td>\n",
       "      <td>46.345359</td>\n",
       "      <td>72.163767</td>\n",
       "      <td>69.905890</td>\n",
       "      <td>37.930343</td>\n",
       "      <td>...</td>\n",
       "      <td>0.000000</td>\n",
       "      <td>0.000000</td>\n",
       "      <td>0.000000</td>\n",
       "      <td>71.281574</td>\n",
       "      <td>24.164554</td>\n",
       "      <td>84.553871</td>\n",
       "      <td>41.142563</td>\n",
       "      <td>12.579798</td>\n",
       "      <td>126.277639</td>\n",
       "      <td>1</td>\n",
       "    </tr>\n",
       "    <tr>\n",
       "      <th>72409</th>\n",
       "      <td>25973.0</td>\n",
       "      <td>26.145655</td>\n",
       "      <td>54.371754</td>\n",
       "      <td>99.482591</td>\n",
       "      <td>24.712214</td>\n",
       "      <td>103.446642</td>\n",
       "      <td>51.841144</td>\n",
       "      <td>61.039941</td>\n",
       "      <td>81.224579</td>\n",
       "      <td>37.735480</td>\n",
       "      <td>...</td>\n",
       "      <td>0.000000</td>\n",
       "      <td>0.000000</td>\n",
       "      <td>0.000000</td>\n",
       "      <td>64.131714</td>\n",
       "      <td>25.904578</td>\n",
       "      <td>89.963708</td>\n",
       "      <td>34.163715</td>\n",
       "      <td>10.107019</td>\n",
       "      <td>135.729266</td>\n",
       "      <td>1</td>\n",
       "    </tr>\n",
       "    <tr>\n",
       "      <th>72410</th>\n",
       "      <td>25492.0</td>\n",
       "      <td>20.565545</td>\n",
       "      <td>79.717228</td>\n",
       "      <td>79.717228</td>\n",
       "      <td>15.852048</td>\n",
       "      <td>122.376433</td>\n",
       "      <td>41.771519</td>\n",
       "      <td>59.762463</td>\n",
       "      <td>53.769188</td>\n",
       "      <td>66.468349</td>\n",
       "      <td>...</td>\n",
       "      <td>0.000000</td>\n",
       "      <td>0.000000</td>\n",
       "      <td>0.000000</td>\n",
       "      <td>56.971912</td>\n",
       "      <td>14.665842</td>\n",
       "      <td>108.362245</td>\n",
       "      <td>33.991543</td>\n",
       "      <td>12.228762</td>\n",
       "      <td>133.779695</td>\n",
       "      <td>1</td>\n",
       "    </tr>\n",
       "  </tbody>\n",
       "</table>\n",
       "<p>72411 rows × 32 columns</p>\n",
       "</div>"
      ],
      "text/plain": [
       "         frame      sita1      sita2       sita3      sita4       sita5  \\\n",
       "0      32962.0  26.606499  59.180330   94.213172  22.823840  108.602668   \n",
       "1      15171.0  30.631028  69.195667   80.173305  19.635485  114.369329   \n",
       "2      22044.0  27.843696  46.616477  105.539827  29.181720  102.796662   \n",
       "3       6320.0  26.593739  53.031395  100.374866  31.157865   90.212248   \n",
       "4      29859.0  29.136533  54.712220   96.151247  29.639262   94.143109   \n",
       "...        ...        ...        ...         ...        ...         ...   \n",
       "72406  33193.0  23.305021  56.098619  100.596360  25.001373   95.376570   \n",
       "72407  31333.0  23.071002  57.895032   99.033966  21.575089  110.607210   \n",
       "72408  23424.0  30.784511  55.948694   93.266796  24.437571  109.217070   \n",
       "72409  25973.0  26.145655  54.371754   99.482591  24.712214  103.446642   \n",
       "72410  25492.0  20.565545  79.717228   79.717228  15.852048  122.376433   \n",
       "\n",
       "           sita6      sita7      sita8      sita9  ...     sita22    sita23  \\\n",
       "0      48.573492  67.587146  72.373759  40.039095  ...   0.000000  0.000000   \n",
       "1      45.995186  65.725180  70.994254  43.280566  ...   0.000000  0.000000   \n",
       "2      48.021618  68.507134  81.446697  30.046169  ...   0.000000  0.000000   \n",
       "3      58.629886  72.118553  75.641867  32.239580  ...   8.870001  3.002261   \n",
       "4      56.217628  78.233302  71.098873  30.667825  ...  11.039635  3.403152   \n",
       "...          ...        ...        ...        ...  ...        ...       ...   \n",
       "72406  59.622057  57.236042  81.220364  41.543594  ...   0.000000  0.000000   \n",
       "72407  47.817700  59.988997  74.184384  45.826619  ...   5.329891  2.188106   \n",
       "72408  46.345359  72.163767  69.905890  37.930343  ...   0.000000  0.000000   \n",
       "72409  51.841144  61.039941  81.224579  37.735480  ...   0.000000  0.000000   \n",
       "72410  41.771519  59.762463  53.769188  66.468349  ...   0.000000  0.000000   \n",
       "\n",
       "           sita24     sita25     sita26      sita27     sita28     sita29  \\\n",
       "0        0.000000  68.037661  23.036698   88.925641  37.060276  10.855320   \n",
       "1        0.000000  69.569244  21.011359   89.419398  28.410188  10.662636   \n",
       "2        0.000000  71.592001  30.278256   78.129743  41.470073   9.948059   \n",
       "3      168.127737  61.358455  27.531423   91.110121  41.249333   9.683077   \n",
       "4      165.557213  66.922484  26.156310   86.921206  43.721216  10.156811   \n",
       "...           ...        ...        ...         ...        ...        ...   \n",
       "72406    0.000000  54.501488  23.964752  101.533760  32.487293   9.816556   \n",
       "72407  172.482003  63.527905  23.000600   93.471495  36.594473  11.298952   \n",
       "72408    0.000000  71.281574  24.164554   84.553871  41.142563  12.579798   \n",
       "72409    0.000000  64.131714  25.904578   89.963708  34.163715  10.107019   \n",
       "72410    0.000000  56.971912  14.665842  108.362245  33.991543  12.228762   \n",
       "\n",
       "           sita30  face  \n",
       "0      132.084404     1  \n",
       "1      140.927175     1  \n",
       "2      128.581868     1  \n",
       "3      129.067591     1  \n",
       "4      126.121973     1  \n",
       "...           ...   ...  \n",
       "72406  137.696150     1  \n",
       "72407  132.106575     1  \n",
       "72408  126.277639     1  \n",
       "72409  135.729266     1  \n",
       "72410  133.779695     1  \n",
       "\n",
       "[72411 rows x 32 columns]"
      ]
     },
     "execution_count": 4,
     "metadata": {},
     "output_type": "execute_result"
    }
   ],
   "source": [
    "df = pd.concat([df,df1,df2,df3,df4,df5]).reset_index(drop=True) \n",
    "df = shuffle(df).reset_index(drop=True)\n",
    "df"
   ]
  },
  {
   "cell_type": "code",
   "execution_count": 5,
   "metadata": {},
   "outputs": [],
   "source": [
    "data = df.drop(labels=['frame','face'],axis=1).values\n",
    "target = df.face.values\n",
    "\n",
    "X_train, X_test, y_train, y_test = train_test_split(data, target, test_size=0.7, random_state=20)\n",
    "\n"
   ]
  },
  {
   "cell_type": "code",
   "execution_count": 6,
   "metadata": {},
   "outputs": [],
   "source": [
    "ss = StandardScaler()\n",
    "X_train = ss.fit_transform(X_train)\n",
    "X_test = ss.transform(X_test)"
   ]
  },
  {
   "cell_type": "code",
   "execution_count": 7,
   "metadata": {},
   "outputs": [
    {
     "name": "stdout",
     "output_type": "stream",
     "text": [
      "X_train: 54308\n",
      "x_test: 18103\n",
      "feature: 30\n",
      "[-1.06198913 -0.08696772  0.63558784 -0.16037021 -0.58814155  0.85682594\n",
      " -1.03506851  1.07032559  0.01162646 -0.15391424  0.93044011 -0.67615459\n",
      " -0.64562633  0.67939166 -0.17642924 -0.6314767   0.83905306 -0.50798852\n",
      " -0.586262   -0.70583407  0.67543016  0.65095454  0.62996176  1.08480945\n",
      " -0.79119644  0.22117474  0.72326963 -0.90732078 -1.06054966  0.99757212]\n",
      "train+test: 72411\n",
      "data: 72411\n"
     ]
    }
   ],
   "source": [
    "#資料數量確認\n",
    "\n",
    "n_samples, n_features = X_train.shape\n",
    "print('X_train:',n_samples)\n",
    "print('x_test:',len(y_test))\n",
    "print('feature:',n_features)\n",
    "print(X_train[0,:])\n",
    "\n",
    "print('train+test:',(len(X_train)+len(X_test)))\n",
    "print('data:',len(data))"
   ]
  },
  {
   "cell_type": "code",
   "execution_count": 8,
   "metadata": {},
   "outputs": [
    {
     "name": "stdout",
     "output_type": "stream",
     "text": [
      "score : 0.9224239522722251\n",
      "time is\n",
      " 701.4658374786377\n",
      "\n",
      "\n",
      "time is\n",
      " 310.0932340621948\n",
      "[0.90778575 0.90392049 0.90447267 0.91270718 0.91049724 0.90441989\n",
      " 0.9038674  0.91049724 0.90331492 0.90220994]\n",
      "0.9063692718836087\n"
     ]
    }
   ],
   "source": [
    "#手動調整參數\n",
    "\n",
    "svc_model = svm.SVC(gamma='auto', C=30, kernel='rbf',probability=True)\n",
    "\n",
    "start = time.time()\n",
    "svc_model.fit(X_train, y_train)\n",
    "print(\"score :\",svc_model.score(X_train, y_train))\n",
    "end = time.time() - start\n",
    "print(\"time is\\n\",end)\n",
    "print(\"\\n\")\n",
    "\n",
    "# K折交叉驗證模組\n",
    "from sklearn.model_selection import cross_val_score \n",
    "\n",
    "start = time.time()\n",
    "#使用K折交叉驗證模組\n",
    "scores = cross_val_score(svc_model, X_val, y_val, cv=10, scoring='accuracy')\n",
    "end = time.time() - start\n",
    "print(\"time is\\n\",end)\n",
    "\n",
    "\n",
    "print(scores)\n",
    "print(scores.mean())"
   ]
  },
  {
   "cell_type": "code",
   "execution_count": 9,
   "metadata": {},
   "outputs": [
    {
     "name": "stdout",
     "output_type": "stream",
     "text": [
      "[[ 1130  1254]\n",
      " [  240 15479]]\n",
      "              precision    recall  f1-score   support\n",
      "\n",
      "           0       0.82      0.47      0.60      2384\n",
      "           1       0.93      0.98      0.95     15719\n",
      "\n",
      "    accuracy                           0.92     18103\n",
      "   macro avg       0.87      0.73      0.78     18103\n",
      "weighted avg       0.91      0.92      0.91     18103\n",
      "\n"
     ]
    }
   ],
   "source": [
    "from sklearn import metrics\n",
    "from sklearn.metrics import confusion_matrix, classification_report\n",
    "\n",
    "svc_pred = svc_model.predict(X_test)\n",
    "\n",
    "print(confusion_matrix(y_test,svc_pred))\n",
    "print(classification_report(y_test,svc_pred))"
   ]
  },
  {
   "cell_type": "code",
   "execution_count": 11,
   "metadata": {},
   "outputs": [
    {
     "data": {
      "text/plain": [
       "['save/ssFace1.pkl']"
      ]
     },
     "execution_count": 11,
     "metadata": {},
     "output_type": "execute_result"
    }
   ],
   "source": [
    "#保存Model(注:save資料夾要預先建立，否則會錯誤)\n",
    "joblib.dump(svc_model, 'save/findFaceModel1.pkl')\n",
    "joblib.dump(ss,'save/ssFace1.pkl')\n",
    "#svc_model = joblib.load('clf.pkl')"
   ]
  },
  {
   "cell_type": "code",
   "execution_count": 10,
   "metadata": {},
   "outputs": [
    {
     "data": {
      "text/plain": [
       "Text(0.5, 0.98, 'Predicted versus actual labels')"
      ]
     },
     "execution_count": 10,
     "metadata": {},
     "output_type": "execute_result"
    },
    {
     "data": {
      "image/png": "[encoded data removed]",
      "text/plain": [
       "<Figure size 576x288 with 2 Axes>"
      ]
     },
     "metadata": {
      "needs_background": "light"
     },
     "output_type": "display_data"
    }
   ],
   "source": [
    "from sklearn.manifold import Isomap\n",
    "# 對 `digits` 資料降維\n",
    "X_iso = Isomap(n_neighbors=10).fit_transform(X_test)\n",
    "\n",
    "# 繪製圖形與調整外觀\n",
    "fig, ax = plt.subplots(1, 2, figsize=(8, 4))\n",
    "fig.subplots_adjust(top=0.85)\n",
    "\n",
    "# 繪製散佈圖 \n",
    "ax[0].scatter(X_iso[:, 0], X_iso[:, 1], c=svc_pred)\n",
    "ax[0].set_title('Predicted labels')\n",
    "ax[1].scatter(X_iso[:, 0], X_iso[:, 1], c=y_test)\n",
    "ax[1].set_title('Actual Labels')\n",
    "\n",
    "# 加入標題\n",
    "fig.suptitle('Predicted versus actual labels', fontsize=14, fontweight='bold')\n"
   ]
  },
  {
   "cell_type": "code",
   "execution_count": 17,
   "metadata": {},
   "outputs": [
    {
     "name": "stdout",
     "output_type": "stream",
     "text": [
      "0.9401929734109156\n",
      "[[ 1170  1214]\n",
      " [  104 15615]]\n",
      "              precision    recall  f1-score   support\n",
      "\n",
      "           0       0.92      0.49      0.64      2384\n",
      "           1       0.93      0.99      0.96     15719\n",
      "\n",
      "    accuracy                           0.93     18103\n",
      "   macro avg       0.92      0.74      0.80     18103\n",
      "weighted avg       0.93      0.93      0.92     18103\n",
      "\n"
     ]
    }
   ],
   "source": [
    "#使用隨機森林\n",
    "from sklearn.ensemble import RandomForestClassifier\n",
    "#n_estimator代表要使用多少CART樹（CART樹為使用GINI算法的決策樹）\n",
    "rfc = RandomForestClassifier(n_estimators= 10,\n",
    " max_depth= 10)\n",
    "\n",
    "#從訓練組資料中建立隨機森林模型\n",
    "rfc.fit(X_train,y_train)\n",
    "print(rfc.score(X_train,y_train))\n",
    "\n",
    "#預測測試組\n",
    "rfc_pred = rfc.predict(X_test)\n",
    "\n",
    "print(confusion_matrix(y_test,rfc_pred))\n",
    "\n",
    "#利用classification report來看precision、recall、f1-score、support\n",
    "print(classification_report(y_test,rfc_pred))"
   ]
  },
  {
   "cell_type": "code",
   "execution_count": 29,
   "metadata": {},
   "outputs": [
    {
     "name": "stdout",
     "output_type": "stream",
     "text": [
      "Fitting 3 folds for each of 100 candidates, totalling 300 fits\n"
     ]
    },
    {
     "name": "stderr",
     "output_type": "stream",
     "text": [
      "[Parallel(n_jobs=-1)]: Using backend LokyBackend with 12 concurrent workers.\n",
      "[Parallel(n_jobs=-1)]: Done  17 tasks      | elapsed:   42.9s\n",
      "[Parallel(n_jobs=-1)]: Done 138 tasks      | elapsed:  4.6min\n",
      "[Parallel(n_jobs=-1)]: Done 300 out of 300 | elapsed: 11.4min finished\n"
     ]
    },
    {
     "data": {
      "text/plain": [
       "RandomizedSearchCV(cv=3, estimator=RandomForestClassifier(), n_iter=100,\n",
       "                   n_jobs=-1,\n",
       "                   param_distributions={'bootstrap': [True, False],\n",
       "                                        'max_depth': [10, 20, 30, 40, 50, 60,\n",
       "                                                      70, 80, 90, 100, None],\n",
       "                                        'max_features': ['auto', 'sqrt'],\n",
       "                                        'min_samples_leaf': [1, 2, 4],\n",
       "                                        'min_samples_split': [2, 5, 10],\n",
       "                                        'n_estimators': [10, 20, 30, 40, 50, 60,\n",
       "                                                         70, 80, 90, 100]},\n",
       "                   random_state=42, scoring='neg_mean_absolute_error',\n",
       "                   verbose=2)"
      ]
     },
     "execution_count": 29,
     "metadata": {},
     "output_type": "execute_result"
    }
   ],
   "source": [
    "from sklearn.model_selection import RandomizedSearchCV\n",
    "n_estimators = [int(x) for x in np.linspace(start = 10, stop = 100, num = 10)]\n",
    "# Number of features to consider at every split\n",
    "max_features = ['auto', 'sqrt']\n",
    "# Maximum number of levels in tree\n",
    "max_depth = [int(x) for x in np.linspace(10, 100, num = 10)]\n",
    "max_depth.append(None)\n",
    "# Minimum number of samples required to split a node\n",
    "min_samples_split = [2, 5, 10]\n",
    "# Minimum number of samples required at each leaf node\n",
    "min_samples_leaf = [1, 2, 4]\n",
    "# Method of selecting samples for training each tree\n",
    "bootstrap = [True, False]\n",
    "\n",
    "# Create the random grid\n",
    "random_grid = {'n_estimators': n_estimators,\n",
    "               'max_features': max_features,\n",
    "               'max_depth': max_depth,\n",
    "               'min_samples_split': min_samples_split,\n",
    "               'min_samples_leaf': min_samples_leaf,\n",
    "               'bootstrap': bootstrap}\n",
    "\n",
    "rf = RandomForestClassifier()\n",
    "rf_random = RandomizedSearchCV(estimator=rf, param_distributions=random_grid,\n",
    "                              n_iter = 100, scoring='neg_mean_absolute_error', \n",
    "                              cv = 3, verbose=2, random_state=42, n_jobs=-1)\n",
    "rf_random.fit(X_train, y_train)"
   ]
  },
  {
   "cell_type": "code",
   "execution_count": 30,
   "metadata": {},
   "outputs": [
    {
     "data": {
      "text/plain": [
       "{'n_estimators': 100,\n",
       " 'min_samples_split': 5,\n",
       " 'min_samples_leaf': 1,\n",
       " 'max_features': 'auto',\n",
       " 'max_depth': 90,\n",
       " 'bootstrap': False}"
      ]
     },
     "execution_count": 30,
     "metadata": {},
     "output_type": "execute_result"
    }
   ],
   "source": [
    "rf_random.best_params_"
   ]
  },
  {
   "cell_type": "code",
   "execution_count": 35,
   "metadata": {},
   "outputs": [
    {
     "name": "stdout",
     "output_type": "stream",
     "text": [
      "[[ 1522   862]\n",
      " [  163 15556]]\n",
      "              precision    recall  f1-score   support\n",
      "\n",
      "           0       0.90      0.64      0.75      2384\n",
      "           1       0.95      0.99      0.97     15719\n",
      "\n",
      "    accuracy                           0.94     18103\n",
      "   macro avg       0.93      0.81      0.86     18103\n",
      "weighted avg       0.94      0.94      0.94     18103\n",
      "\n"
     ]
    }
   ],
   "source": [
    "best_random = rf_random.best_estimator_\n",
    "predictions = best_random.predict(X_test)\n",
    "print(confusion_matrix(y_test,predictions))\n",
    "\n",
    "#利用classification report來看precision、recall、f1-score、support\n",
    "print(classification_report(y_test,predictions))"
   ]
  },
  {
   "cell_type": "code",
   "execution_count": 39,
   "metadata": {},
   "outputs": [
    {
     "name": "stdout",
     "output_type": "stream",
     "text": [
      "Fitting 3 folds for each of 81 candidates, totalling 243 fits\n"
     ]
    },
    {
     "name": "stderr",
     "output_type": "stream",
     "text": [
      "[Parallel(n_jobs=-1)]: Using backend LokyBackend with 12 concurrent workers.\n",
      "[Parallel(n_jobs=-1)]: Done  17 tasks      | elapsed:  2.5min\n",
      "[Parallel(n_jobs=-1)]: Done 138 tasks      | elapsed: 17.9min\n",
      "[Parallel(n_jobs=-1)]: Done 243 out of 243 | elapsed: 30.7min finished\n"
     ]
    },
    {
     "data": {
      "text/plain": [
       "GridSearchCV(cv=3, estimator=RandomForestClassifier(), n_jobs=-1,\n",
       "             param_grid={'bootstrap': [False], 'max_depth': [80, 90, 100],\n",
       "                         'max_features': ['auto'],\n",
       "                         'min_samples_leaf': [1, 2, 3],\n",
       "                         'min_samples_split': [4, 6, 8],\n",
       "                         'n_estimators': [100, 150, 200]},\n",
       "             scoring='neg_mean_absolute_error', verbose=2)"
      ]
     },
     "execution_count": 39,
     "metadata": {},
     "output_type": "execute_result"
    }
   ],
   "source": [
    "from sklearn.model_selection import GridSearchCV\n",
    "param_grid = {\n",
    "    'bootstrap': [False],\n",
    "    'max_depth': [80, 90, 100],\n",
    "    'max_features': ['auto'],\n",
    "    'min_samples_leaf': [1,2,3],\n",
    "    'min_samples_split': [4,6,8],\n",
    "    'n_estimators': [100, 150, 200]\n",
    "}\n",
    "\n",
    "rf = RandomForestClassifier()\n",
    "\n",
    "grid_search = GridSearchCV(estimator = rf, param_grid = param_grid, \n",
    "                           scoring = 'neg_mean_absolute_error', cv = 3, \n",
    "                           n_jobs = -1, verbose = 2)\n",
    "grid_search.fit(X_train, y_train)"
   ]
  },
  {
   "cell_type": "code",
   "execution_count": 40,
   "metadata": {},
   "outputs": [
    {
     "data": {
      "text/plain": [
       "{'bootstrap': False,\n",
       " 'max_depth': 90,\n",
       " 'max_features': 'auto',\n",
       " 'min_samples_leaf': 1,\n",
       " 'min_samples_split': 4,\n",
       " 'n_estimators': 200}"
      ]
     },
     "execution_count": 40,
     "metadata": {},
     "output_type": "execute_result"
    }
   ],
   "source": [
    "grid_search.best_params_"
   ]
  },
  {
   "cell_type": "code",
   "execution_count": 41,
   "metadata": {},
   "outputs": [
    {
     "name": "stdout",
     "output_type": "stream",
     "text": [
      "[[ 1523   861]\n",
      " [  164 15555]]\n",
      "              precision    recall  f1-score   support\n",
      "\n",
      "           0       0.90      0.64      0.75      2384\n",
      "           1       0.95      0.99      0.97     15719\n",
      "\n",
      "    accuracy                           0.94     18103\n",
      "   macro avg       0.93      0.81      0.86     18103\n",
      "weighted avg       0.94      0.94      0.94     18103\n",
      "\n"
     ]
    }
   ],
   "source": [
    "best_grid = grid_search.best_estimator_\n",
    "predictions = best_grid.predict(X_test)\n",
    "print(confusion_matrix(y_test,predictions))\n",
    "\n",
    "#利用classification report來看precision、recall、f1-score、support\n",
    "print(classification_report(y_test,predictions))"
   ]
  }
 ],
 "metadata": {
  "kernelspec": {
   "display_name": "Python 3",
   "language": "python",
   "name": "python3"
  },
  "language_info": {
   "codemirror_mode": {
    "name": "ipython",
    "version": 3
   },
   "file_extension": ".py",
   "mimetype": "text/x-python",
   "name": "python",
   "nbconvert_exporter": "python",
   "pygments_lexer": "ipython3",
   "version": "3.8.5"
  }
 },
 "nbformat": 4,
 "nbformat_minor": 4
}
