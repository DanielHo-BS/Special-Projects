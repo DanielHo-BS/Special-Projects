{
 "cells": [
  {
   "cell_type": "code",
   "execution_count": null,
   "metadata": {},
   "outputs": [],
   "source": [
    "import os\n",
    "import glob\n",
    "import numpy as np\n",
    "import pandas as pd\n",
    "from keras.preprocessing.image import  img_to_array, load_img\n",
    "from PIL import Image"
   ]
  },
  {
   "cell_type": "code",
   "execution_count": null,
   "metadata": {},
   "outputs": [],
   "source": [
    "def Image_dataset(sitafile,sitaHealthfile,HealthImageFolder,PainImageFolder)\n",
    "    #輸入sita\n",
    "    df = pd.read_csv(sitafile)\n",
    "    print(df.shape)\n",
    "\n",
    "    #輸入health的資料量\n",
    "    #切割 healthh\n",
    "    dfh = pd.read_csv(sitaHealthfile)\n",
    "    dfh = df.head(dfh.shape[0])\n",
    "    print(dfh.shape)\n",
    "    #切割 pain\n",
    "    dfp = df.drop(range(0,dfh.shape[0]))\n",
    "    print(dfp.shape)\n",
    "\n",
    "    ################################\n",
    "    #creat health_image_dataset.npy\n",
    "    images = []\n",
    "    size = (64, 64)\n",
    "    folder = HealthImageFolder\n",
    "    for frame in dfh['frame']:\n",
    "        frameName = str(int(frame))\n",
    "        image_path = folder+frameName+'.jpg'\n",
    "        img = load_img(os.path.join(image_path))\n",
    "        img = img.resize(size,Image.BILINEAR)\n",
    "        x = img_to_array(img)\n",
    "        images.append(x)\n",
    "\n",
    "    images = np.array(images)\n",
    "    print(images.shape)\n",
    "    #save health_image_dataset.npy\n",
    "    np.save('health_image_dataset',images)\n",
    "\n",
    "    ##############################\n",
    "    # creat pain_image_dataset.npy\n",
    "    images = []\n",
    "    size = (64, 64)\n",
    "    folder = PainImageFolder\n",
    "    for frame in dfp['frame']:\n",
    "        frameName = str(int(frame))\n",
    "        image_path = folder+frameName+'.jpg'\n",
    "        img = load_img(os.path.join(image_path))\n",
    "        img = img.resize(size,Image.BILINEAR)\n",
    "        x = img_to_array(img)\n",
    "        images.append(x)\n",
    "\n",
    "    images = np.array(images)\n",
    "    print(images.shape)\n",
    "    #save pain_image_dataset.npy\n",
    "    np.save('pain_image_dataset',images)"
   ]
  },
  {
   "cell_type": "code",
   "execution_count": null,
   "metadata": {},
   "outputs": [],
   "source": [
    "sitafile = r'D:\\Python\\sklearn\\linearSVM\\KT\\KT_sita.csv'\n",
    "sitaHealthfile = r'D:/Python/sklearn/linearSVM/KT/sitaHealth.csv'\n",
    "HealthImageFolder = r'D:\\rat_video\\20191226_CFA_ipl_pain_face\\naive_basal\\KT\\save\\\\'\n",
    "PainImageFolder = r'D:\\rat_video\\20191226_CFA_ipl_pain_face\\CFA_D1_predrrug_basal\\KT\\save\\\\'\n",
    "Image_dataset(sitafile,sitaHealthfile,HealthImageFolder,PainImageFolder)"
   ]
  },
  {
   "cell_type": "code",
   "execution_count": null,
   "metadata": {},
   "outputs": [],
   "source": [
    "image_df_health = np.load('health_image_dataset.npy')\n",
    "image_df_health"
   ]
  },
  {
   "cell_type": "code",
   "execution_count": null,
   "metadata": {},
   "outputs": [],
   "source": [
    "image_df_pain = np.load('pain_image_dataset.npy')\n",
    "image_df_pain"
   ]
  }
 ],
 "metadata": {
  "kernelspec": {
   "display_name": "Python 3",
   "language": "python",
   "name": "python3"
  },
  "language_info": {
   "codemirror_mode": {
    "name": "ipython",
    "version": 3
   },
   "file_extension": ".py",
   "mimetype": "text/x-python",
   "name": "python",
   "nbconvert_exporter": "python",
   "pygments_lexer": "ipython3",
   "version": "3.8.5"
  }
 },
 "nbformat": 4,
 "nbformat_minor": 4
}
